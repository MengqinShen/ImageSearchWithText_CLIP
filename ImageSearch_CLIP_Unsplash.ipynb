{
 "cells": [
  {
   "cell_type": "code",
   "execution_count": 14,
   "id": "747e9d28-a6ba-41f3-b34c-cbe3ba88b957",
   "metadata": {},
   "outputs": [],
   "source": [
    "# **This is a bold heading**"
   ]
  },
  {
   "cell_type": "code",
   "execution_count": 16,
   "id": "a4987b52-1983-4f92-815e-1b0087cd1e55",
   "metadata": {},
   "outputs": [],
   "source": [
    "# Setup Environment\n",
    "#!pip install git+https://github.com/openai/CLIP.git\n",
    "#!pip install torch==1.7.1+cu101 torchvision==0.8.2+cu101 -f https://download.pytorch.org/whl/torch_stable.html"
   ]
  },
  {
   "cell_type": "code",
   "execution_count": 18,
   "id": "a710d548-c94a-4163-b498-e097816ec2da",
   "metadata": {},
   "outputs": [],
   "source": [
    "import clip\n",
    "import torch\n",
    "\n",
    "# Load the open CLIP model\n",
    "device = \"cuda\" if torch.cuda.is_available() else \"cpu\"\n",
    "model, preprocess = clip.load(\"ViT-B/32\", device=device)"
   ]
  },
  {
   "cell_type": "code",
   "execution_count": 20,
   "id": "b72c865f-fbb7-471b-ac4a-ffcb8942a445",
   "metadata": {},
   "outputs": [
    {
     "data": {
      "text/plain": [
       "'cpu'"
      ]
     },
     "execution_count": 20,
     "metadata": {},
     "output_type": "execute_result"
    }
   ],
   "source": [
    "device"
   ]
  },
  {
   "cell_type": "code",
   "execution_count": 24,
   "id": "0a1e84ed-42d5-4d55-b328-ded73c2c1eb7",
   "metadata": {},
   "outputs": [
    {
     "name": "stderr",
     "output_type": "stream",
     "text": [
      "A subdirectory or file unsplash-dataset already exists.\n"
     ]
    }
   ],
   "source": [
    "#Download the Precomputed Data\n",
    "from pathlib import Path\n",
    "\n",
    "# Create a folder for the precomputed features\n",
    "!mkdir unsplash-dataset\n",
    "\n",
    "# Download from Github Releases\n",
    "if not Path('unsplash-dataset/photo_ids.csv').exists():\n",
    "  !wget https://github.com/haltakov/natural-language-image-search/releases/download/1.0.0/photo_ids.csv -O unsplash-dataset/photo_ids.csv\n",
    "\n",
    "if not Path('unsplash-dataset/features.npy').exists():\n",
    "  !wget https://github.com/haltakov/natural-language-image-search/releases/download/1.0.0/features.npy -O unsplash-dataset/features.npy\n",
    "  "
   ]
  },
  {
   "cell_type": "code",
   "execution_count": 26,
   "id": "7a9fb3b0-9f07-45a1-b6b2-09f3e422351a",
   "metadata": {},
   "outputs": [
    {
     "name": "stdout",
     "output_type": "stream",
     "text": [
      "Photos loaded: 1981161\n"
     ]
    }
   ],
   "source": [
    "\n",
    "import pandas as pd\n",
    "import numpy as np\n",
    "\n",
    "# Load the photo IDs\n",
    "photo_ids = pd.read_csv(\"unsplash-dataset/photo_ids.csv\")\n",
    "photo_ids = list(photo_ids['photo_id'])\n",
    "\n",
    "# Load the features vectors\n",
    "photo_features = np.load(\"unsplash-dataset/features.npy\")\n",
    "\n",
    "# Convert features to Tensors: Float32 on CPU and Float16 on GPU\n",
    "if device == \"cpu\":\n",
    "  photo_features = torch.from_numpy(photo_features).float().to(device)\n",
    "else:\n",
    "  photo_features = torch.from_numpy(photo_features).to(device)\n",
    "\n",
    "# Print some statistics\n",
    "print(f\"Photos loaded: {len(photo_ids)}\")"
   ]
  },
  {
   "cell_type": "code",
   "execution_count": null,
   "id": "82d687b7-0e4f-4b6d-8f39-0af3684c7871",
   "metadata": {},
   "outputs": [],
   "source": [
    "# **Define Functions**"
   ]
  },
  {
   "cell_type": "code",
   "execution_count": 28,
   "id": "591242cf-b773-4819-b5a9-104e3593fe84",
   "metadata": {},
   "outputs": [],
   "source": [
    "def encode_search_query(search_query):\n",
    "  with torch.no_grad():\n",
    "    # Encode and normalize the search query using CLIP\n",
    "    text_encoded = model.encode_text(clip.tokenize(search_query).to(device))\n",
    "    text_encoded /= text_encoded.norm(dim=-1, keepdim=True)\n",
    "\n",
    "  # Retrieve the feature vector\n",
    "  return text_encoded"
   ]
  },
  {
   "cell_type": "code",
   "execution_count": 30,
   "id": "ba71099f-65a6-434c-82be-1c7a8ddd85c5",
   "metadata": {},
   "outputs": [],
   "source": [
    "def find_best_matches(text_features, photo_features, photo_ids, results_count=3):\n",
    "  # Compute the similarity between the search query and each photo using the Cosine similarity\n",
    "  similarities = (photo_features @ text_features.T).squeeze(1)\n",
    "\n",
    "  # Sort the photos by their similarity score\n",
    "  best_photo_idx = (-similarities).argsort()\n",
    "\n",
    "  # Return the photo IDs of the best matches\n",
    "  return [photo_ids[i] for i in best_photo_idx[:results_count]]"
   ]
  },
  {
   "cell_type": "code",
   "execution_count": 56,
   "id": "f9083618-3a89-4977-a043-cae1a0315638",
   "metadata": {},
   "outputs": [],
   "source": [
    "from IPython.display import Image\n",
    "from IPython.core.display import HTML\n",
    "\n",
    "def display_photo(photo_id):\n",
    "  # Get the URL of the photo resized to have a width of 320px\n",
    "  photo_image_url = f\"https://unsplash.com/photos/{photo_id}/download?w=320\"\n",
    "\n",
    "  # Display the photo\n",
    "  display(Image(url=photo_image_url))\n",
    "\n",
    "  # Display the attribution text\n",
    "  display(HTML(f'Photo on Unsplash '))\n",
    "  print(\"Photo ID :\" + photo_id)\n",
    "  print()"
   ]
  },
  {
   "cell_type": "code",
   "execution_count": 32,
   "id": "ef4d3e75-e6ec-498d-a2a9-227e2aaa8482",
   "metadata": {},
   "outputs": [],
   "source": [
    "# from IPython.display import Image\n",
    "# from IPython.core.display import HTML\n",
    "# from urllib.request import urlopen\n",
    "# import json\n",
    "# #display a photo from Unsplash given its ID.This function needs to call the Unsplash API to get the URL of the photo \n",
    "# # and some metadata about the photographer. \n",
    "# def display_photo(photo_id):\n",
    "#   # Proxy for the Unsplash API \n",
    "#   unsplash_api_url = f\"https://haltakov.net/unsplash-proxy/{photo_id}\"\n",
    "  \n",
    "#   # Alternatively, you can use your own Unsplash developer account with this code\n",
    "#   # unsplash_api_url = f\"https://api.unsplash.com/photos/{photo_id}?client_id=YOUR_UNSPLASH_ACCESS_KEY\"\n",
    "  \n",
    "#   # Fetch the photo metadata from the Unsplash API\n",
    "#   photo_data = json.loads(urlopen(unsplash_api_url).read().decode(\"utf-8\"))\n",
    "\n",
    "#   # Get the URL of the photo resized to have a width of 480px\n",
    "#   photo_image_url = photo_data[\"urls\"][\"raw\"] + \"&w=320\"\n",
    "\n",
    "#   # Display the photo\n",
    "#   display(Image(url=photo_image_url))\n",
    "\n",
    "#   # Display the attribution text\n",
    "#   display(HTML(f'Photo by {photo_data[\"user\"][\"name\"]} on Unsplash'))\n",
    "#   print()"
   ]
  },
  {
   "cell_type": "code",
   "execution_count": 58,
   "id": "0a4e0d66-3fc6-46d0-b2d0-b5d2de21fb22",
   "metadata": {},
   "outputs": [],
   "source": [
    "def search_unslash(search_query, photo_features, photo_ids, results_count=3):\n",
    "  # Encode the search query\n",
    "  text_features = encode_search_query(search_query)\n",
    "\n",
    "  # Find the best matches\n",
    "  best_photo_ids = find_best_matches(text_features, photo_features, photo_ids, results_count)\n",
    "\n",
    "  # Display the best photos\n",
    "  for photo_id in best_photo_ids:\n",
    "    display_photo(photo_id)"
   ]
  },
  {
   "cell_type": "code",
   "execution_count": 60,
   "id": "e0351311-749c-456e-936b-f25264a7b850",
   "metadata": {},
   "outputs": [
    {
     "data": {
      "text/html": [
       "<img src=\"https://unsplash.com/photos/MtCh1hgGkiU/download?w=320\"/>"
      ],
      "text/plain": [
       "<IPython.core.display.Image object>"
      ]
     },
     "metadata": {},
     "output_type": "display_data"
    },
    {
     "data": {
      "text/html": [
       "Photo on Unsplash "
      ],
      "text/plain": [
       "<IPython.core.display.HTML object>"
      ]
     },
     "metadata": {},
     "output_type": "display_data"
    },
    {
     "name": "stdout",
     "output_type": "stream",
     "text": [
      "Photo ID :MtCh1hgGkiU\n",
      "\n"
     ]
    },
    {
     "data": {
      "text/html": [
       "<img src=\"https://unsplash.com/photos/Xkhy9_N9Wgo/download?w=320\"/>"
      ],
      "text/plain": [
       "<IPython.core.display.Image object>"
      ]
     },
     "metadata": {},
     "output_type": "display_data"
    },
    {
     "data": {
      "text/html": [
       "Photo on Unsplash "
      ],
      "text/plain": [
       "<IPython.core.display.HTML object>"
      ]
     },
     "metadata": {},
     "output_type": "display_data"
    },
    {
     "name": "stdout",
     "output_type": "stream",
     "text": [
      "Photo ID :Xkhy9_N9Wgo\n",
      "\n"
     ]
    },
    {
     "data": {
      "text/html": [
       "<img src=\"https://unsplash.com/photos/qWlZ-8VNJWM/download?w=320\"/>"
      ],
      "text/plain": [
       "<IPython.core.display.Image object>"
      ]
     },
     "metadata": {},
     "output_type": "display_data"
    },
    {
     "data": {
      "text/html": [
       "Photo on Unsplash "
      ],
      "text/plain": [
       "<IPython.core.display.HTML object>"
      ]
     },
     "metadata": {},
     "output_type": "display_data"
    },
    {
     "name": "stdout",
     "output_type": "stream",
     "text": [
      "Photo ID :qWlZ-8VNJWM\n",
      "\n"
     ]
    }
   ],
   "source": [
    "search_query = \"Two birds flying above the water\"\n",
    "\n",
    "search_unslash(search_query, photo_features, photo_ids, 3)"
   ]
  },
  {
   "cell_type": "code",
   "execution_count": 64,
   "id": "22140170-9a69-4f9b-b57d-1d1a79140bc2",
   "metadata": {},
   "outputs": [
    {
     "data": {
      "text/html": [
       "<img src=\"https://unsplash.com/photos/Iep8SMdpe6I/download?w=320\"/>"
      ],
      "text/plain": [
       "<IPython.core.display.Image object>"
      ]
     },
     "metadata": {},
     "output_type": "display_data"
    },
    {
     "data": {
      "text/html": [
       "Photo on Unsplash "
      ],
      "text/plain": [
       "<IPython.core.display.HTML object>"
      ]
     },
     "metadata": {},
     "output_type": "display_data"
    },
    {
     "name": "stdout",
     "output_type": "stream",
     "text": [
      "Photo ID :Iep8SMdpe6I\n",
      "\n"
     ]
    },
    {
     "data": {
      "text/html": [
       "<img src=\"https://unsplash.com/photos/CBXJ6ljSDzM/download?w=320\"/>"
      ],
      "text/plain": [
       "<IPython.core.display.Image object>"
      ]
     },
     "metadata": {},
     "output_type": "display_data"
    },
    {
     "data": {
      "text/html": [
       "Photo on Unsplash "
      ],
      "text/plain": [
       "<IPython.core.display.HTML object>"
      ]
     },
     "metadata": {},
     "output_type": "display_data"
    },
    {
     "name": "stdout",
     "output_type": "stream",
     "text": [
      "Photo ID :CBXJ6ljSDzM\n",
      "\n"
     ]
    },
    {
     "data": {
      "text/html": [
       "<img src=\"https://unsplash.com/photos/ZB1OH9hihjE/download?w=320\"/>"
      ],
      "text/plain": [
       "<IPython.core.display.Image object>"
      ]
     },
     "metadata": {},
     "output_type": "display_data"
    },
    {
     "data": {
      "text/html": [
       "Photo on Unsplash "
      ],
      "text/plain": [
       "<IPython.core.display.HTML object>"
      ]
     },
     "metadata": {},
     "output_type": "display_data"
    },
    {
     "name": "stdout",
     "output_type": "stream",
     "text": [
      "Photo ID :ZB1OH9hihjE\n",
      "\n"
     ]
    }
   ],
   "source": [
    "search_query = \"Boy who wins a swiming medal\"\n",
    "\n",
    "search_unslash(search_query, photo_features, photo_ids, 3)"
   ]
  },
  {
   "cell_type": "code",
   "execution_count": null,
   "id": "57ffb342-702f-4cc5-b36e-5f08e563ba34",
   "metadata": {},
   "outputs": [],
   "source": [
    "# **Combine Text and Photo Seach Queries**\n",
    "#The idea here is to do a text search for a photo and then modify the search query by adding another photo \n",
    "# to the search query in order to transfer some of the photo features to the search.\n",
    "#This works by adding the features of the photo to the features of the text query. \n",
    "# The photo features are multiplied with a weight in order to reduce the influence so that the text query is the main source.\n",
    "#The results are somewhat sensitive to the prompt..."
   ]
  },
  {
   "cell_type": "code",
   "execution_count": 48,
   "id": "069e6258-cf47-490d-923d-8b84b9d75fe6",
   "metadata": {},
   "outputs": [],
   "source": [
    "def search_by_text_and_photo(query_text, query_photo_id, photo_weight=0.5):\n",
    "  # Encode the search query\n",
    "  text_features = encode_search_query(query_text)\n",
    "\n",
    "  # Find the feature vector for the specified photo ID\n",
    "  query_photo_index = photo_ids.index(query_photo_id)\n",
    "  query_photo_features = photo_features[query_photo_index]\n",
    "\n",
    "  # Combine the test and photo queries and normalize again\n",
    "  search_features = text_features + query_photo_features * photo_weight\n",
    "  search_features /= search_features.norm(dim=-1, keepdim=True)\n",
    "\n",
    "  # Find the best match\n",
    "  best_photo_ids = find_best_matches(search_features, photo_features, photo_ids, 1)\n",
    "\n",
    "  # Display the results\n",
    "  print(\"Test search result\")\n",
    "  search_unslash(query_text, photo_features, photo_ids, 1)\n",
    "\n",
    "  print(\"Photo query\")\n",
    "  display(Image(url=f\"https://unsplash.com/photos/{query_photo_id}/download?w=320\"))\n",
    "\n",
    "  print(\"Result for text query + photo query\")\n",
    "  display_photo(best_photo_ids[0])"
   ]
  },
  {
   "cell_type": "code",
   "execution_count": 68,
   "id": "f2dab9fa-52b4-46ca-b6f0-6e306c8f14a4",
   "metadata": {},
   "outputs": [
    {
     "name": "stdout",
     "output_type": "stream",
     "text": [
      "Test search result\n"
     ]
    },
    {
     "data": {
      "text/html": [
       "<img src=\"https://unsplash.com/photos/DbGDTKm9SRs/download?w=320\"/>"
      ],
      "text/plain": [
       "<IPython.core.display.Image object>"
      ]
     },
     "metadata": {},
     "output_type": "display_data"
    },
    {
     "data": {
      "text/html": [
       "Photo on Unsplash "
      ],
      "text/plain": [
       "<IPython.core.display.HTML object>"
      ]
     },
     "metadata": {},
     "output_type": "display_data"
    },
    {
     "name": "stdout",
     "output_type": "stream",
     "text": [
      "Photo ID :DbGDTKm9SRs\n",
      "\n",
      "Photo query\n"
     ]
    },
    {
     "data": {
      "text/html": [
       "<img src=\"https://unsplash.com/photos/qWlZ-8VNJWM/download?w=320\"/>"
      ],
      "text/plain": [
       "<IPython.core.display.Image object>"
      ]
     },
     "metadata": {},
     "output_type": "display_data"
    },
    {
     "name": "stdout",
     "output_type": "stream",
     "text": [
      "Result for text query + photo query\n"
     ]
    },
    {
     "data": {
      "text/html": [
       "<img src=\"https://unsplash.com/photos/qWlZ-8VNJWM/download?w=320\"/>"
      ],
      "text/plain": [
       "<IPython.core.display.Image object>"
      ]
     },
     "metadata": {},
     "output_type": "display_data"
    },
    {
     "data": {
      "text/html": [
       "Photo on Unsplash "
      ],
      "text/plain": [
       "<IPython.core.display.HTML object>"
      ]
     },
     "metadata": {},
     "output_type": "display_data"
    },
    {
     "name": "stdout",
     "output_type": "stream",
     "text": [
      "Photo ID :qWlZ-8VNJWM\n",
      "\n"
     ]
    }
   ],
   "source": [
    "search_by_text_and_photo(\"Seagull flying\", \"qWlZ-8VNJWM\")"
   ]
  },
  {
   "cell_type": "code",
   "execution_count": 66,
   "id": "30cd7094-15ac-4b90-82b9-d406e9270b23",
   "metadata": {},
   "outputs": [
    {
     "name": "stdout",
     "output_type": "stream",
     "text": [
      "Test search result\n"
     ]
    },
    {
     "data": {
      "text/html": [
       "<img src=\"https://unsplash.com/photos/QP-l1uE19iI/download?w=320\"/>"
      ],
      "text/plain": [
       "<IPython.core.display.Image object>"
      ]
     },
     "metadata": {},
     "output_type": "display_data"
    },
    {
     "data": {
      "text/html": [
       "Photo on Unsplash "
      ],
      "text/plain": [
       "<IPython.core.display.HTML object>"
      ]
     },
     "metadata": {},
     "output_type": "display_data"
    },
    {
     "name": "stdout",
     "output_type": "stream",
     "text": [
      "Photo ID :QP-l1uE19iI\n",
      "\n",
      "Photo query\n"
     ]
    },
    {
     "data": {
      "text/html": [
       "<img src=\"https://unsplash.com/photos/HSsOC5nqurA/download?w=320\"/>"
      ],
      "text/plain": [
       "<IPython.core.display.Image object>"
      ]
     },
     "metadata": {},
     "output_type": "display_data"
    },
    {
     "name": "stdout",
     "output_type": "stream",
     "text": [
      "Result for text query + photo query\n"
     ]
    },
    {
     "data": {
      "text/html": [
       "<img src=\"https://unsplash.com/photos/KCEUHBb4wjc/download?w=320\"/>"
      ],
      "text/plain": [
       "<IPython.core.display.Image object>"
      ]
     },
     "metadata": {},
     "output_type": "display_data"
    },
    {
     "data": {
      "text/html": [
       "Photo on Unsplash "
      ],
      "text/plain": [
       "<IPython.core.display.HTML object>"
      ]
     },
     "metadata": {},
     "output_type": "display_data"
    },
    {
     "name": "stdout",
     "output_type": "stream",
     "text": [
      "Photo ID :KCEUHBb4wjc\n",
      "\n"
     ]
    }
   ],
   "source": [
    "search_by_text_and_photo(\"Sydney Opera house\", \"HSsOC5nqurA\")"
   ]
  }
 ],
 "metadata": {
  "kernelspec": {
   "display_name": "Python 3 (ipykernel)",
   "language": "python",
   "name": "python3"
  },
  "language_info": {
   "codemirror_mode": {
    "name": "ipython",
    "version": 3
   },
   "file_extension": ".py",
   "mimetype": "text/x-python",
   "name": "python",
   "nbconvert_exporter": "python",
   "pygments_lexer": "ipython3",
   "version": "3.11.10"
  }
 },
 "nbformat": 4,
 "nbformat_minor": 5
}
